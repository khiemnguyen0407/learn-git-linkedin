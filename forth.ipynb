{
 "cells": [
  {
   "cell_type": "markdown",
   "id": "0a28097f",
   "metadata": {},
   "source": [
    "# Description\n",
    "\n",
    "This is the forth file."
   ]
  },
  {
   "cell_type": "code",
   "execution_count": 1,
   "id": "17413578",
   "metadata": {},
   "outputs": [],
   "source": [
    "import numpy as np"
   ]
  },
  {
   "cell_type": "code",
   "execution_count": 2,
   "id": "9c982f25",
   "metadata": {},
   "outputs": [
    {
     "name": "stdout",
     "output_type": "stream",
     "text": [
      "a + b = [[0 1 2 3 4]\n",
      " [1 2 3 4 5]\n",
      " [2 3 4 5 6]\n",
      " [3 4 5 6 7]\n",
      " [4 5 6 7 8]]\n"
     ]
    }
   ],
   "source": [
    "a = np.array([0, 1, 2, 3, 4])\n",
    "b = np.array([[0], [1], [2], [3], [4]])\n",
    "\n",
    "print(f\"a + b = {a + b}\")"
   ]
  },
  {
   "cell_type": "markdown",
   "id": "25c99d24",
   "metadata": {},
   "source": []
  }
 ],
 "metadata": {
  "kernelspec": {
   "display_name": "base",
   "language": "python",
   "name": "python3"
  },
  "language_info": {
   "codemirror_mode": {
    "name": "ipython",
    "version": 3
   },
   "file_extension": ".py",
   "mimetype": "text/x-python",
   "name": "python",
   "nbconvert_exporter": "python",
   "pygments_lexer": "ipython3",
   "version": "3.12.7"
  }
 },
 "nbformat": 4,
 "nbformat_minor": 5
}
